{
  "cells": [
    {
      "cell_type": "code",
      "execution_count": null,
      "metadata": {
        "colab": {
          "base_uri": "https://localhost:8080/"
        },
        "execution": {
          "iopub.execute_input": "2025-05-09T18:02:56.820677Z",
          "iopub.status.busy": "2025-05-09T18:02:56.819792Z",
          "iopub.status.idle": "2025-05-09T18:04:38.913515Z",
          "shell.execute_reply": "2025-05-09T18:04:38.912268Z",
          "shell.execute_reply.started": "2025-05-09T18:02:56.820645Z"
        },
        "id": "Q0gSDnfUTZZF",
        "outputId": "5c99d2b3-b1fc-4b08-d4a6-731875624ab7",
        "trusted": true
      },
      "outputs": [
        {
          "name": "stdout",
          "output_type": "stream",
          "text": [
            "\u001b[2K   \u001b[90m━━━━━━━━━━━━━━━━━━━━━━━━━━━━━━━━━━━━━━━━\u001b[0m \u001b[32m1.0/1.0 MB\u001b[0m \u001b[31m16.9 MB/s\u001b[0m eta \u001b[36m0:00:00\u001b[0m\n",
            "\u001b[2K   \u001b[90m━━━━━━━━━━━━━━━━━━━━━━━━━━━━━━━━━━━━━━━━\u001b[0m \u001b[32m363.4/363.4 MB\u001b[0m \u001b[31m4.0 MB/s\u001b[0m eta \u001b[36m0:00:00\u001b[0m\n",
            "\u001b[2K   \u001b[90m━━━━━━━━━━━━━━━━━━━━━━━━━━━━━━━━━━━━━━━━\u001b[0m \u001b[32m13.8/13.8 MB\u001b[0m \u001b[31m67.8 MB/s\u001b[0m eta \u001b[36m0:00:00\u001b[0m\n",
            "\u001b[2K   \u001b[90m━━━━━━━━━━━━━━━━━━━━━━━━━━━━━━━━━━━━━━━━\u001b[0m \u001b[32m24.6/24.6 MB\u001b[0m \u001b[31m54.2 MB/s\u001b[0m eta \u001b[36m0:00:00\u001b[0m\n",
            "\u001b[2K   \u001b[90m━━━━━━━━━━━━━━━━━━━━━━━━━━━━━━━━━━━━━━━━\u001b[0m \u001b[32m883.7/883.7 kB\u001b[0m \u001b[31m36.1 MB/s\u001b[0m eta \u001b[36m0:00:00\u001b[0m\n",
            "\u001b[2K   \u001b[90m━━━━━━━━━━━━━━━━━━━━━━━━━━━━━━━━━━━━━━━━\u001b[0m \u001b[32m664.8/664.8 MB\u001b[0m \u001b[31m1.4 MB/s\u001b[0m eta \u001b[36m0:00:00\u001b[0m\n",
            "\u001b[2K   \u001b[90m━━━━━━━━━━━━━━━━━━━━━━━━━━━━━━━━━━━━━━━━\u001b[0m \u001b[32m211.5/211.5 MB\u001b[0m \u001b[31m5.8 MB/s\u001b[0m eta \u001b[36m0:00:00\u001b[0m\n",
            "\u001b[2K   \u001b[90m━━━━━━━━━━━━━━━━━━━━━━━━━━━━━━━━━━━━━━━━\u001b[0m \u001b[32m56.3/56.3 MB\u001b[0m \u001b[31m12.2 MB/s\u001b[0m eta \u001b[36m0:00:00\u001b[0m\n",
            "\u001b[2K   \u001b[90m━━━━━━━━━━━━━━━━━━━━━━━━━━━━━━━━━━━━━━━━\u001b[0m \u001b[32m127.9/127.9 MB\u001b[0m \u001b[31m7.3 MB/s\u001b[0m eta \u001b[36m0:00:00\u001b[0m\n",
            "\u001b[2K   \u001b[90m━━━━━━━━━━━━━━━━━━━━━━━━━━━━━━━━━━━━━━━━\u001b[0m \u001b[32m207.5/207.5 MB\u001b[0m \u001b[31m6.1 MB/s\u001b[0m eta \u001b[36m0:00:00\u001b[0m\n",
            "\u001b[2K   \u001b[90m━━━━━━━━━━━━━━━━━━━━━━━━━━━━━━━━━━━━━━━━\u001b[0m \u001b[32m21.1/21.1 MB\u001b[0m \u001b[31m63.2 MB/s\u001b[0m eta \u001b[36m0:00:00\u001b[0m\n",
            "\u001b[?25h"
          ]
        }
      ],
      "source": [
        "!pip install --quiet --upgrade ultralytics\n"
      ]
    },
    {
      "cell_type": "code",
      "execution_count": null,
      "metadata": {
        "colab": {
          "base_uri": "https://localhost:8080/",
          "height": 74
        },
        "id": "ss5lNVpiX1fi",
        "outputId": "2bead92c-4eb6-4b2f-cde9-f68abf424a1c"
      },
      "outputs": [
        {
          "data": {
            "text/html": [
              "\n",
              "     <input type=\"file\" id=\"files-8fcd3c90-f9ba-464e-9896-76ad21fe11d5\" name=\"files[]\" multiple disabled\n",
              "        style=\"border:none\" />\n",
              "     <output id=\"result-8fcd3c90-f9ba-464e-9896-76ad21fe11d5\">\n",
              "      Upload widget is only available when the cell has been executed in the\n",
              "      current browser session. Please rerun this cell to enable.\n",
              "      </output>\n",
              "      <script>// Copyright 2017 Google LLC\n",
              "//\n",
              "// Licensed under the Apache License, Version 2.0 (the \"License\");\n",
              "// you may not use this file except in compliance with the License.\n",
              "// You may obtain a copy of the License at\n",
              "//\n",
              "//      http://www.apache.org/licenses/LICENSE-2.0\n",
              "//\n",
              "// Unless required by applicable law or agreed to in writing, software\n",
              "// distributed under the License is distributed on an \"AS IS\" BASIS,\n",
              "// WITHOUT WARRANTIES OR CONDITIONS OF ANY KIND, either express or implied.\n",
              "// See the License for the specific language governing permissions and\n",
              "// limitations under the License.\n",
              "\n",
              "/**\n",
              " * @fileoverview Helpers for google.colab Python module.\n",
              " */\n",
              "(function(scope) {\n",
              "function span(text, styleAttributes = {}) {\n",
              "  const element = document.createElement('span');\n",
              "  element.textContent = text;\n",
              "  for (const key of Object.keys(styleAttributes)) {\n",
              "    element.style[key] = styleAttributes[key];\n",
              "  }\n",
              "  return element;\n",
              "}\n",
              "\n",
              "// Max number of bytes which will be uploaded at a time.\n",
              "const MAX_PAYLOAD_SIZE = 100 * 1024;\n",
              "\n",
              "function _uploadFiles(inputId, outputId) {\n",
              "  const steps = uploadFilesStep(inputId, outputId);\n",
              "  const outputElement = document.getElementById(outputId);\n",
              "  // Cache steps on the outputElement to make it available for the next call\n",
              "  // to uploadFilesContinue from Python.\n",
              "  outputElement.steps = steps;\n",
              "\n",
              "  return _uploadFilesContinue(outputId);\n",
              "}\n",
              "\n",
              "// This is roughly an async generator (not supported in the browser yet),\n",
              "// where there are multiple asynchronous steps and the Python side is going\n",
              "// to poll for completion of each step.\n",
              "// This uses a Promise to block the python side on completion of each step,\n",
              "// then passes the result of the previous step as the input to the next step.\n",
              "function _uploadFilesContinue(outputId) {\n",
              "  const outputElement = document.getElementById(outputId);\n",
              "  const steps = outputElement.steps;\n",
              "\n",
              "  const next = steps.next(outputElement.lastPromiseValue);\n",
              "  return Promise.resolve(next.value.promise).then((value) => {\n",
              "    // Cache the last promise value to make it available to the next\n",
              "    // step of the generator.\n",
              "    outputElement.lastPromiseValue = value;\n",
              "    return next.value.response;\n",
              "  });\n",
              "}\n",
              "\n",
              "/**\n",
              " * Generator function which is called between each async step of the upload\n",
              " * process.\n",
              " * @param {string} inputId Element ID of the input file picker element.\n",
              " * @param {string} outputId Element ID of the output display.\n",
              " * @return {!Iterable<!Object>} Iterable of next steps.\n",
              " */\n",
              "function* uploadFilesStep(inputId, outputId) {\n",
              "  const inputElement = document.getElementById(inputId);\n",
              "  inputElement.disabled = false;\n",
              "\n",
              "  const outputElement = document.getElementById(outputId);\n",
              "  outputElement.innerHTML = '';\n",
              "\n",
              "  const pickedPromise = new Promise((resolve) => {\n",
              "    inputElement.addEventListener('change', (e) => {\n",
              "      resolve(e.target.files);\n",
              "    });\n",
              "  });\n",
              "\n",
              "  const cancel = document.createElement('button');\n",
              "  inputElement.parentElement.appendChild(cancel);\n",
              "  cancel.textContent = 'Cancel upload';\n",
              "  const cancelPromise = new Promise((resolve) => {\n",
              "    cancel.onclick = () => {\n",
              "      resolve(null);\n",
              "    };\n",
              "  });\n",
              "\n",
              "  // Wait for the user to pick the files.\n",
              "  const files = yield {\n",
              "    promise: Promise.race([pickedPromise, cancelPromise]),\n",
              "    response: {\n",
              "      action: 'starting',\n",
              "    }\n",
              "  };\n",
              "\n",
              "  cancel.remove();\n",
              "\n",
              "  // Disable the input element since further picks are not allowed.\n",
              "  inputElement.disabled = true;\n",
              "\n",
              "  if (!files) {\n",
              "    return {\n",
              "      response: {\n",
              "        action: 'complete',\n",
              "      }\n",
              "    };\n",
              "  }\n",
              "\n",
              "  for (const file of files) {\n",
              "    const li = document.createElement('li');\n",
              "    li.append(span(file.name, {fontWeight: 'bold'}));\n",
              "    li.append(span(\n",
              "        `(${file.type || 'n/a'}) - ${file.size} bytes, ` +\n",
              "        `last modified: ${\n",
              "            file.lastModifiedDate ? file.lastModifiedDate.toLocaleDateString() :\n",
              "                                    'n/a'} - `));\n",
              "    const percent = span('0% done');\n",
              "    li.appendChild(percent);\n",
              "\n",
              "    outputElement.appendChild(li);\n",
              "\n",
              "    const fileDataPromise = new Promise((resolve) => {\n",
              "      const reader = new FileReader();\n",
              "      reader.onload = (e) => {\n",
              "        resolve(e.target.result);\n",
              "      };\n",
              "      reader.readAsArrayBuffer(file);\n",
              "    });\n",
              "    // Wait for the data to be ready.\n",
              "    let fileData = yield {\n",
              "      promise: fileDataPromise,\n",
              "      response: {\n",
              "        action: 'continue',\n",
              "      }\n",
              "    };\n",
              "\n",
              "    // Use a chunked sending to avoid message size limits. See b/62115660.\n",
              "    let position = 0;\n",
              "    do {\n",
              "      const length = Math.min(fileData.byteLength - position, MAX_PAYLOAD_SIZE);\n",
              "      const chunk = new Uint8Array(fileData, position, length);\n",
              "      position += length;\n",
              "\n",
              "      const base64 = btoa(String.fromCharCode.apply(null, chunk));\n",
              "      yield {\n",
              "        response: {\n",
              "          action: 'append',\n",
              "          file: file.name,\n",
              "          data: base64,\n",
              "        },\n",
              "      };\n",
              "\n",
              "      let percentDone = fileData.byteLength === 0 ?\n",
              "          100 :\n",
              "          Math.round((position / fileData.byteLength) * 100);\n",
              "      percent.textContent = `${percentDone}% done`;\n",
              "\n",
              "    } while (position < fileData.byteLength);\n",
              "  }\n",
              "\n",
              "  // All done.\n",
              "  yield {\n",
              "    response: {\n",
              "      action: 'complete',\n",
              "    }\n",
              "  };\n",
              "}\n",
              "\n",
              "scope.google = scope.google || {};\n",
              "scope.google.colab = scope.google.colab || {};\n",
              "scope.google.colab._files = {\n",
              "  _uploadFiles,\n",
              "  _uploadFilesContinue,\n",
              "};\n",
              "})(self);\n",
              "</script> "
            ],
            "text/plain": [
              "<IPython.core.display.HTML object>"
            ]
          },
          "metadata": {},
          "output_type": "display_data"
        },
        {
          "name": "stdout",
          "output_type": "stream",
          "text": [
            "Saving kaggle.json to kaggle.json\n"
          ]
        }
      ],
      "source": [
        "from google.colab import files\n",
        "uploaded = files.upload()\n"
      ]
    },
    {
      "cell_type": "code",
      "execution_count": null,
      "metadata": {
        "id": "oqQ5Lk4CX4WG"
      },
      "outputs": [],
      "source": [
        "!mkdir -p ~/.kaggle\n",
        "!mv kaggle.json ~/.kaggle/\n",
        "!chmod 600 ~/.kaggle/kaggle.json\n"
      ]
    },
    {
      "cell_type": "code",
      "execution_count": null,
      "metadata": {
        "colab": {
          "base_uri": "https://localhost:8080/"
        },
        "id": "Bx8c_fnRYSV2",
        "outputId": "cffba84e-e901-4f9c-d8a8-0a1c4240f665"
      },
      "outputs": [
        {
          "name": "stdout",
          "output_type": "stream",
          "text": [
            "Status: 200\n",
            "Response: [{\"subtitleNullable\":\"Great for regression, classification, EDA, visualization, and even ML practice.\",\"creatorNameNullable\":\"Jayanta Nath\",\"creatorUrlNullable\":\"jayaantanaath\",\"totalBytesNullable\":19512,\"urlNullable\":\"https://www.kaggle.com/datasets/jayaantanaath/student-habits-vs-academic-performance\",\"licenseNameNullable\":\"Apache 2.0\",\"descriptionNullable\":null,\"ownerNameNullable\":\"Jayanta Nath\",\"ownerRefNullable\":\"jayaantanaath\",\"titleNullable\":\"Student Habits vs Academic Performance\",\"curre\n"
          ]
        }
      ],
      "source": [
        "import requests\n",
        "import json\n",
        "\n",
        "with open(\"/root/.kaggle/kaggle.json\") as f:\n",
        "    cred = json.load(f)\n"
      ]
    },
    {
      "cell_type": "code",
      "execution_count": null,
      "metadata": {
        "id": "6zrjR34GYlS6"
      },
      "outputs": [],
      "source": [
        "import os\n",
        "os.environ['KAGGLE_USERNAME'] = cred['username']\n",
        "os.environ['KAGGLE_KEY'] = cred['key']\n"
      ]
    },
    {
      "cell_type": "code",
      "execution_count": null,
      "metadata": {
        "colab": {
          "base_uri": "https://localhost:8080/"
        },
        "id": "05FGR5nUd6cK",
        "outputId": "4ab46245-d361-4378-bf36-3875a58d1990"
      },
      "outputs": [
        {
          "name": "stdout",
          "output_type": "stream",
          "text": [
            "Path to dataset files: /root/.cache/kagglehub/datasets/bulatsharipov1/defect-detection-dataset/versions/1\n"
          ]
        }
      ],
      "source": [
        "import kagglehub\n",
        "\n",
        "path = kagglehub.dataset_download(\"bulatsharipov1/defect-detection-dataset\")\n",
        "\n",
        "\n",
        "print(\"Path to dataset files:\", path)"
      ]
    },
    {
      "cell_type": "markdown",
      "metadata": {
        "id": "0vHiBDuqgPyC"
      },
      "source": [
        "Path to the dataset\n",
        "\n",
        "\n",
        "```\n",
        "\"/root/.cache/kagglehub/datasets/bulatsharipov1/defect-detection-dataset/versions/1/dataset_0_100\"\n",
        "```\n",
        "\n"
      ]
    },
    {
      "cell_type": "code",
      "execution_count": null,
      "metadata": {
        "execution": {
          "iopub.execute_input": "2025-05-09T18:04:41.111471Z",
          "iopub.status.busy": "2025-05-09T18:04:41.111045Z",
          "iopub.status.idle": "2025-05-09T18:04:45.937021Z",
          "shell.execute_reply": "2025-05-09T18:04:45.936055Z",
          "shell.execute_reply.started": "2025-05-09T18:04:41.111432Z"
        },
        "id": "HyL6Jwl0TZZH",
        "trusted": true
      },
      "outputs": [],
      "source": [
        "import random, yaml, os, re\n",
        "from pathlib import Path\n",
        "from ultralytics import YOLO\n",
        "from PIL import Image\n",
        "import numpy as np\n",
        "from tqdm import tqdm\n",
        "import matplotlib.pyplot as plt\n",
        "import cv2"
      ]
    },
    {
      "cell_type": "code",
      "execution_count": null,
      "metadata": {
        "execution": {
          "iopub.execute_input": "2025-05-09T17:59:56.149824Z",
          "iopub.status.busy": "2025-05-09T17:59:56.149521Z",
          "iopub.status.idle": "2025-05-09T17:59:56.154874Z",
          "shell.execute_reply": "2025-05-09T17:59:56.153787Z",
          "shell.execute_reply.started": "2025-05-09T17:59:56.149801Z"
        },
        "id": "IFNkG9QJTZZH",
        "trusted": true
      },
      "outputs": [],
      "source": [
        "def norm2abs(x_norm, y_norm, w, h):\n",
        "    # в YOLO формате координаты отнормированы по размеру изображения\n",
        "    # поэтому конвертируем их обратно в реальные координаты\n",
        "    x_abs = x_norm * w\n",
        "    y_abs = y_norm * h\n",
        "    return np.column_stack((x_abs, y_abs))"
      ]
    },
    {
      "cell_type": "code",
      "execution_count": null,
      "metadata": {
        "execution": {
          "iopub.execute_input": "2025-05-09T17:59:56.481988Z",
          "iopub.status.busy": "2025-05-09T17:59:56.481701Z",
          "iopub.status.idle": "2025-05-09T17:59:56.488545Z",
          "shell.execute_reply": "2025-05-09T17:59:56.487157Z",
          "shell.execute_reply.started": "2025-05-09T17:59:56.481967Z"
        },
        "id": "W2sdVS2OTZZI",
        "trusted": true
      },
      "outputs": [],
      "source": [
        "def clip_poly(poly, x0, y0, tile):\n",
        "    # короче проверяет какие объекты в рассматриваемом подфрейме\n",
        "    # Берет координаты маски, вычитает из них фрейм на котором ща находимся (чтобы отнормировать\n",
        "    # координаты относительно нашего фрейма), а потом проверяет, входит ли маска в границы, если да\n",
        "    # то кидаем\n",
        "    # Кстати, тут по сути не будет потери масок из-за того что у нас пересечения, но все же могут быть\n",
        "    poly[:, 0] -= x0\n",
        "    poly[:, 1] -= y0\n",
        "    inside = (poly[:, 0] >= 0) & (poly[:, 0] <= tile) &  (poly[:, 1] >= 0) & (poly[:, 1] <= tile)\n",
        "    return poly[inside]"
      ]
    },
    {
      "cell_type": "code",
      "execution_count": null,
      "metadata": {
        "execution": {
          "iopub.execute_input": "2025-05-09T18:13:38.299796Z",
          "iopub.status.busy": "2025-05-09T18:13:38.298506Z",
          "iopub.status.idle": "2025-05-09T18:13:38.321572Z",
          "shell.execute_reply": "2025-05-09T18:13:38.320677Z",
          "shell.execute_reply.started": "2025-05-09T18:13:38.299755Z"
        },
        "id": "HWFoY8KOTZZJ",
        "trusted": true
      },
      "outputs": [],
      "source": [
        "def crop_the_dataset(dataset_orig_src_path, dataset_crop_dst_path, delete_original = True):\n",
        "    # Функция, которая берет исходный датасет, и кропит изображение в несколько других изображений\n",
        "    SRC = Path(dataset_orig_src_path)\n",
        "    DST = Path(dataset_crop_dst_path)\n",
        "    DST_IMG = DST / 'images'\n",
        "    DST_LBL = DST / 'labels'\n",
        "    for p in [DST_IMG, DST_LBL]: p.mkdir(parents=True, exist_ok=True)\n",
        "    # parents = True: если родительских директорий не существует, создаем их\n",
        "    # exist_ok = True: если папка уже существует, то оставляем как есть\n",
        "\n",
        "\n",
        "    TILE = 1140 # Размер подизображения\n",
        "    STRIDE = int(TILE * 0.8) # Чтобы были пересечения\n",
        "\n",
        "    for img_path in tqdm(sorted((SRC / 'images').glob('*'))):\n",
        "        h_img = cv2.imread(str(img_path), cv2.IMREAD_UNCHANGED)\n",
        "        # Здесь еще можно добавить проверку что количество измерений 3, чтобы если было 2, сделать РГБ\n",
        "        # РГБ по сути не нужно в нашей таске, но все модельки работают именно с РГБ, поэтому терпим\n",
        "        h, w = h_img.shape[:2]\n",
        "\n",
        "        lbl_path = SRC / 'labels' / (img_path.stem + '.txt')\n",
        "        polys_raw = open(lbl_path, 'r').read().strip().splitlines()\n",
        "        # Здесь читаем файл с масками, каждая маска - новая линия, в каждой линии класс и координаты\n",
        "\n",
        "        objs = []\n",
        "        # Здесь будут храниться каждый класс с координатами\n",
        "\n",
        "        for ln in polys_raw:\n",
        "            # Собираем objs\n",
        "            parts = ln.strip().split()\n",
        "            cls = int(parts[0])\n",
        "            xy_norm = np.array(parts[1:], float).reshape(-1, 2)\n",
        "            objs.append((cls, xy_norm))\n",
        "\n",
        "\n",
        "        id_tile = 0\n",
        "        y0 = 0\n",
        "        # id_tile - айдишник подизображения\n",
        "        for x0 in range(0, w - TILE + 1, STRIDE):\n",
        "            # прохожусь с окном TILE\n",
        "            x1, y1 = x0 + TILE, y0 + TILE\n",
        "            sub = h_img[y0:y1, x0:x1]\n",
        "\n",
        "            new_lines = []\n",
        "            for cls, xy_norm in objs:\n",
        "                poly = norm2abs(xy_norm[:, 0], xy_norm[:, 1], w, h)\n",
        "                # из нормированных координат получаем обычные\n",
        "                poly = clip_poly(poly.copy(), x0, y0, TILE)\n",
        "                # берет только те объекты которые в нашем изображении\n",
        "                if len(poly) < 3:\n",
        "                    # если меньше 3 точек то сегмент не получится\n",
        "                    continue\n",
        "                # обратно нормируем и добавляем\n",
        "                poly_norm  = np.stack([poly[:, 0]/TILE, poly[:, 1]/TILE], 1).reshape(-1)\n",
        "                poly_norm = ' '.join(f'{v:.6f}' for v in poly_norm)\n",
        "                new_lines.append(f'{cls} {poly_norm}')\n",
        "            # сохраняем под изображение\n",
        "            out_stub = f'{img_path.stem}_{id_tile:04d}'\n",
        "            cv2.imwrite(str(DST_IMG / f'{out_stub}.png'), sub)\n",
        "            with open(DST_LBL / f'{out_stub}.txt', 'w' ) as f:\n",
        "                if new_lines:\n",
        "                    f.write('\\n'.join(new_lines))\n",
        "                else:\n",
        "                    f.write('')\n",
        "            id_tile += 1\n",
        "\n",
        "        if delete_original:\n",
        "            os.remove(img_path)\n",
        "            os.remove(SRC / 'labels' / (img_path.stem + '.txt'))\n"
      ]
    },
    {
      "cell_type": "code",
      "execution_count": null,
      "metadata": {
        "colab": {
          "base_uri": "https://localhost:8080/"
        },
        "execution": {
          "iopub.execute_input": "2025-05-09T18:13:47.115709Z",
          "iopub.status.busy": "2025-05-09T18:13:47.115122Z",
          "iopub.status.idle": "2025-05-09T18:22:37.118125Z",
          "shell.execute_reply": "2025-05-09T18:22:37.116551Z",
          "shell.execute_reply.started": "2025-05-09T18:13:47.115681Z"
        },
        "id": "eF9WR9RkTZZJ",
        "outputId": "5428c6c8-2f7d-4b44-8dde-3f1c190f76c4",
        "trusted": true
      },
      "outputs": [
        {
          "name": "stderr",
          "output_type": "stream",
          "text": [
            "100%|██████████| 938/938 [54:08<00:00,  3.46s/it]\n"
          ]
        }
      ],
      "source": [
        "crop_the_dataset('/root/.cache/kagglehub/datasets/bulatsharipov1/defect-detection-dataset/versions/1/dataset_0_100', '/content/dataset_0_100', False )\n"
      ]
    },
    {
      "cell_type": "code",
      "execution_count": null,
      "metadata": {
        "colab": {
          "base_uri": "https://localhost:8080/"
        },
        "id": "eYzB8Ha8TZZK",
        "outputId": "315e6761-eafe-4b92-8c98-159ab76add28",
        "trusted": true
      },
      "outputs": [
        {
          "name": "stdout",
          "output_type": "stream",
          "text": [
            "✅ Prepared data.yaml\n",
            " names:\n",
            "  0: пора\n",
            "  1: включение\n",
            "  2: подрез\n",
            "  3: прожог\n",
            "  4: трещина\n",
            "  5: наплыв\n",
            "  6: эталон1\n",
            "  7: эталон2\n",
            "  8: эталон3\n",
            "  9: пора-скрытая\n",
            "  10: утяжина\n",
            "  11: несплавление\n",
            "  12: непровар корня\n",
            "nc: 13\n",
            "path: .\n",
            "train: train.txt\n",
            "val: val.txt\n",
            "\n"
          ]
        }
      ],
      "source": [
        "DATA_ROOT = Path('/content/dataset_0_100')\n",
        "WORK_DIR  = DATA_ROOT\n",
        "\n",
        "IMAGES_DIR = DATA_ROOT / 'images'\n",
        "LABELS_DIR = DATA_ROOT / 'labels'\n",
        "\n",
        "images = sorted(IMAGES_DIR.glob('*.png'))\n",
        "random.shuffle(images)\n",
        "\n",
        "split_ratio = 0.80\n",
        "n_train = int(len(images) * split_ratio)\n",
        "train_imgs, val_imgs = images[:n_train], images[n_train:]\n",
        "\n",
        "def write_list(paths, file_path, root):\n",
        "    with open(file_path, 'w') as f:\n",
        "        for p in paths:\n",
        "            rel = p.relative_to(root)\n",
        "            f.write(rel.as_posix() + '\\n')\n",
        "\n",
        "TRAIN_LIST = WORK_DIR / 'train.txt'\n",
        "VAL_LIST   = WORK_DIR / 'val.txt'\n",
        "write_list(train_imgs, TRAIN_LIST, DATA_ROOT)\n",
        "write_list(val_imgs,   VAL_LIST,   DATA_ROOT)\n",
        "\n",
        "orig = yaml.safe_load(open(DATA_ROOT / 'data.yaml'))\n",
        "names = {int(k): v for k, v in orig['names'].items()}\n",
        "\n",
        "data_yaml_content = {\n",
        "    'path': '.',\n",
        "    'nc':   len(names),\n",
        "    'names': names,\n",
        "    'train': TRAIN_LIST.name,\n",
        "    'val':   VAL_LIST.name\n",
        "}\n",
        "\n",
        "with open(WORK_DIR / 'data.yaml', 'w') as f:\n",
        "    yaml.dump(data_yaml_content, f, allow_unicode=True)\n",
        "\n",
        "print('✅ Prepared data.yaml\\n', yaml.dump(data_yaml_content, allow_unicode=True))\n"
      ]
    },
    {
      "cell_type": "code",
      "execution_count": null,
      "metadata": {
        "colab": {
          "base_uri": "https://localhost:8080/"
        },
        "id": "RAsUMId5vuCE",
        "outputId": "0a0a821f-ed5b-4449-8a39-e69951e5c354"
      },
      "outputs": [
        {
          "name": "stdout",
          "output_type": "stream",
          "text": [
            "/content/dataset_0_100\n",
            "Data package template written to: ./dataset-metadata.json\n"
          ]
        }
      ],
      "source": [
        "%cd /content/dataset_0_100\n",
        "!kaggle datasets init -p .\n"
      ]
    },
    {
      "cell_type": "code",
      "execution_count": null,
      "metadata": {
        "id": "p4T1nHCSv5bD"
      },
      "outputs": [],
      "source": [
        "import json\n",
        "\n",
        "meta_path = \"dataset-metadata.json\"\n",
        "meta = json.load(open(meta_path))\n",
        "\n",
        "meta[\"id\"]          = \"bulatsharipov1/defect-detection-cropped\"\n",
        "meta[\"title\"]       = \"cropped_version_hackath_innodsik\"\n",
        "meta[\"licenses\"]    = [{\"name\": \"CC0-1.0\"}]\n",
        "\n",
        "with open(meta_path, \"w\") as f:\n",
        "    json.dump(meta, f, indent=2)\n"
      ]
    },
    {
      "cell_type": "code",
      "execution_count": null,
      "metadata": {
        "colab": {
          "base_uri": "https://localhost:8080/"
        },
        "id": "RHuEbmh6wHJ2",
        "outputId": "77966d74-c014-41f0-a9b1-1a0a2ba46bed"
      },
      "outputs": [
        {
          "name": "stdout",
          "output_type": "stream",
          "text": [
            "Starting upload for file labels.zip\n",
            "100% 6.65M/6.65M [00:00<00:00, 29.1MB/s]\n",
            "Upload successful: labels.zip (7MB)\n",
            "Starting upload for file val.txt\n",
            "100% 203k/203k [00:00<00:00, 1.17MB/s]\n",
            "Upload successful: val.txt (203KB)\n",
            "Starting upload for file train.txt\n",
            "100% 812k/812k [00:00<00:00, 4.18MB/s]\n",
            "Upload successful: train.txt (812KB)\n",
            "Starting upload for file data.yaml\n",
            "100% 336/336 [00:00<00:00, 2.02kB/s]\n",
            "Upload successful: data.yaml (336B)\n",
            "Starting upload for file images.zip\n",
            "100% 21.6G/21.6G [03:18<00:00, 117MB/s]\n",
            "Upload successful: images.zip (22GB)\n",
            "Your private Dataset is being created. Please check progress at https://www.kaggle.com/datasets/bulatsharipov1/defect-detection-cropped\n"
          ]
        }
      ],
      "source": [
        "!kaggle datasets create \\\n",
        "    -p . \\\n",
        "    --dir-mode zip"
      ]
    }
  ],
  "metadata": {
    "colab": {
      "provenance": []
    },
    "kaggle": {
      "accelerator": "none",
      "dataSources": [
        {
          "datasetId": 7369064,
          "sourceId": 11738273,
          "sourceType": "datasetVersion"
        }
      ],
      "dockerImageVersionId": 31011,
      "isGpuEnabled": false,
      "isInternetEnabled": true,
      "language": "python",
      "sourceType": "notebook"
    },
    "kernelspec": {
      "display_name": "Python 3",
      "language": "python",
      "name": "python3"
    },
    "language_info": {
      "codemirror_mode": {
        "name": "ipython",
        "version": 3
      },
      "file_extension": ".py",
      "mimetype": "text/x-python",
      "name": "python",
      "nbconvert_exporter": "python",
      "pygments_lexer": "ipython3",
      "version": "3.11.11"
    }
  },
  "nbformat": 4,
  "nbformat_minor": 0
}
